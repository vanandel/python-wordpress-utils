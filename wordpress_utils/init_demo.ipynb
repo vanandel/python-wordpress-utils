{
 "cells": [
  {
   "cell_type": "code",
   "execution_count": null,
   "metadata": {
    "collapsed": false,
    "scrolled": false
   },
   "outputs": [],
   "source": [
    "from WPUtil import WPUtil\n",
    "from wordpress_xmlrpc.methods import posts\n",
    "wpu = WPUtil()\n",
    "page = wpu.findPageByTitle('demo')\n",
    "\n",
    "page.content.splitlines()[0]  # print the first line"
   ]
  },
  {
   "cell_type": "code",
   "execution_count": null,
   "metadata": {
    "collapsed": false
   },
   "outputs": [],
   "source": [
    "wpu.prependToPage(page,'<b>Now we have a new first line</b>\\n')\n",
    "\n",
    "page.content.splitlines()[0]  # print the current first line"
   ]
  },
  {
   "cell_type": "code",
   "execution_count": null,
   "metadata": {
    "collapsed": false
   },
   "outputs": [],
   "source": [
    "page = wpu.findPageByTitle('demo')\n",
    "\n",
    "lines = page.content.splitlines()[1:]  #remove the first line, keeping the rest\n",
    "\n",
    "page.content = \"\\n\".join(lines)        # create new content from the remaining lines\n",
    "wpu.client.call(posts.EditPost(page.id, page))\n",
    "page.content.splitlines()[0]           # and show the new first line"
   ]
  },
  {
   "cell_type": "code",
   "execution_count": null,
   "metadata": {
    "collapsed": true
   },
   "outputs": [],
   "source": [
    "result = wpu.createPost('brand new post title','new content', 'podcasts' )"
   ]
  }
 ],
 "metadata": {
  "kernelspec": {
   "display_name": "Python 2",
   "language": "python",
   "name": "python2"
  },
  "language_info": {
   "codemirror_mode": {
    "name": "ipython",
    "version": 2
   },
   "file_extension": ".py",
   "mimetype": "text/x-python",
   "name": "python",
   "nbconvert_exporter": "python",
   "pygments_lexer": "ipython2",
   "version": "2.7.13"
  }
 },
 "nbformat": 4,
 "nbformat_minor": 2
}
